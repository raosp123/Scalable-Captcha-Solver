{
 "cells": [
  {
   "cell_type": "code",
   "execution_count": 2,
   "metadata": {},
   "outputs": [],
   "source": [
    "import tensorflow\n",
    "from tensorflow import keras\n",
    "from keras.models import load_model\n",
    "model_char = load_model('char_count_model.h5')\n",
    "model_pred = load_model('model_ch1.h5')"
   ]
  },
  {
   "cell_type": "code",
   "execution_count": 11,
   "metadata": {},
   "outputs": [
    {
     "name": "stdout",
     "output_type": "stream",
     "text": [
      "1/1 [==============================] - 0s 50ms/step\n"
     ]
    },
    {
     "data": {
      "text/plain": [
       "array([[5.1170077]], dtype=float32)"
      ]
     },
     "execution_count": 11,
     "metadata": {},
     "output_type": "execute_result"
    }
   ],
   "source": [
    "import cv2\n",
    "import numpy as np\n",
    "im = cv2.imread('test2/-rbracecolonW+.png')\n",
    "im = cv2.cvtColor(im, cv2.COLOR_BGR2RGB)\n",
    "im = im / 255.0\n",
    "\n",
    "prediction = model_char.predict(np.expand_dims(im, axis=0))\n",
    "prediction"
   ]
  },
  {
   "cell_type": "code",
   "execution_count": 4,
   "metadata": {},
   "outputs": [
    {
     "name": "stdout",
     "output_type": "stream",
     "text": [
      "1/1 [==============================] - 0s 489ms/step\n"
     ]
    },
    {
     "data": {
      "text/plain": [
       "array([[3.28210071e-02, 1.60823605e-04, 1.70150127e-09, 2.59056242e-06,\n",
       "        1.16071349e-15, 6.69921690e-07, 6.24806370e-12, 1.04626352e-08,\n",
       "        6.55357894e-07, 1.74128672e-05, 9.89432277e-13, 8.16532050e-11,\n",
       "        6.26011853e-10, 9.45696138e-06, 4.89435822e-01, 8.58478816e-05,\n",
       "        1.76242807e-08, 5.59085356e-09, 7.21075253e-07, 5.70922799e-04,\n",
       "        5.04774667e-09, 8.15389249e-12, 2.40752723e-10, 7.95352850e-09,\n",
       "        9.75484681e-14, 2.34245672e-08, 4.69566762e-01, 1.77852488e-09,\n",
       "        8.36012737e-13, 1.03234275e-14, 1.39168344e-10, 1.64730929e-09,\n",
       "        1.75198286e-10, 6.29704761e-11, 1.01368229e-07, 3.69600202e-05,\n",
       "        2.18443190e-14, 1.47264796e-12, 2.61023579e-15, 6.54198369e-03,\n",
       "        7.37021852e-04, 1.31773872e-08, 1.10040482e-05, 1.81745632e-10]],\n",
       "      dtype=float32)"
      ]
     },
     "execution_count": 4,
     "metadata": {},
     "output_type": "execute_result"
    }
   ],
   "source": [
    "import cv2 \n",
    "import numpy as np \n",
    "\n",
    "im = cv2.imread('char2/-XQ04.png')\n",
    "im = cv2.cvtColor(im, cv2.COLOR_BGR2GRAY)\n",
    "im = im / 255.0\n",
    "print\n",
    "im = np.array(im)\n",
    "\n",
    "prediction = model_pred.predict(np.expand_dims(im, axis=0))\n",
    "prediction"
   ]
  },
  {
   "cell_type": "code",
   "execution_count": 5,
   "metadata": {},
   "outputs": [
    {
     "data": {
      "text/plain": [
       "14"
      ]
     },
     "execution_count": 5,
     "metadata": {},
     "output_type": "execute_result"
    }
   ],
   "source": [
    "np.argmax(prediction)"
   ]
  }
 ],
 "metadata": {
  "kernelspec": {
   "display_name": "Python 3",
   "language": "python",
   "name": "python3"
  },
  "language_info": {
   "codemirror_mode": {
    "name": "ipython",
    "version": 3
   },
   "file_extension": ".py",
   "mimetype": "text/x-python",
   "name": "python",
   "nbconvert_exporter": "python",
   "pygments_lexer": "ipython3",
   "version": "3.11.6"
  }
 },
 "nbformat": 4,
 "nbformat_minor": 2
}
